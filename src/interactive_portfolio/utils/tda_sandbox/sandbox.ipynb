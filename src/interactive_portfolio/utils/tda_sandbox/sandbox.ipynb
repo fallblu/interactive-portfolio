{
 "cells": [
  {
   "cell_type": "code",
   "execution_count": 1,
   "id": "270e99a8",
   "metadata": {},
   "outputs": [],
   "source": [
    "import yfinance as yf\n",
    "import numpy as np\n",
    "\n",
    "from gudhi.datasets.generators import points\n",
    "from gudhi import SimplexTree\n",
    "\n",
    "import plotly.graph_objects as go\n",
    "from scipy.spatial.distance import cdist"
   ]
  },
  {
   "cell_type": "code",
   "execution_count": null,
   "id": "1ae4e400",
   "metadata": {},
   "outputs": [],
   "source": [
    "circle_sample = points.sphere(n_samples=500, ambient_dim=2, radius=1, sample=\"random\")\n",
    "\n",
    "fig = go.Figure(\n",
    "  data=go.Scattergl(\n",
    "    x=circle_sample[:,0],\n",
    "    y=circle_sample[:,1],\n",
    "    mode='markers'\n",
    "  ),\n",
    "  layout=go.Layout(\n",
    "    width=1000,\n",
    "    height=1000,\n",
    "    paper_bgcolor=\"#FFFFFF\",\n",
    "    plot_bgcolor='#FFFFFF'\n",
    "  )\n",
    ")\n",
    "\n",
    "fig.update_xaxes(showgrid=False, zeroline=False, range=[-2.,2.], tickvals=[])\n",
    "fig.update_yaxes(showgrid=False, zeroline=False, range=[-2.,2.], tickvals=[])\n",
    "\n",
    "fig.show()"
   ]
  },
  {
   "cell_type": "code",
   "execution_count": 21,
   "id": "e5ff2adf",
   "metadata": {},
   "outputs": [
    {
     "data": {
      "application/vnd.plotly.v1+json": {
       "config": {
        "plotlyServerURL": "https://plot.ly"
       },
       "data": [
        {
         "hoverinfo": "none",
         "marker": {
          "color": "#FFAD00",
          "size": 5
         },
         "mode": "markers",
         "type": "scatter3d",
         "x": {
          "bdata": "iFvQUJMIyT88QjFlUOrJvwXmrYrxvdg/EymGoxoP0D9FQZsHtYjlP0jfJ9WU5dO/iChGuac77z8S2mJ3uUfvPxe3zSTf7dK/4o9RbPNp3D9yBIrUmnLbPwoeSzZx3ME/cryWHZjx6j8DvSbu9t/aP2hOyz14+d+/htClWGAR7T9fCb8HGsDdv66kzx+/zsE/iMgZlg3+yj9jsdP0nmntv/AUgRO62t0/1votVpNR4r9DzPzMCL/sP6IXTrHNw+U/VkRoUcJu0j+oP5WJhR3UPz0YbV6l58m/eGHmt5186j9/KfQpjCfsPwAkR312guY/ck/oUIGOwD8Sgq5LElngv8DOd0nq/O+/Wd/jtV+oq78ComGAxcfNPwBdVTu8zNm/pK5dCVDXuL8lk9hZ8dfFP8nh7fxnFue/LB1zxLK2uj9Lnlgh0+jqP+SukTvsSui/P2jrT1p5yb9BC30ae87nP7egXmTOHtY/hR1I9dl+5b+aapWzWD7Rv0uKrYqATea/s+g/OsxP4T+t0SK5BwfmPw==",
          "dtype": "f8"
         },
         "y": {
          "bdata": "Oaue2O6w6r8eVHdWFcXGP87RRAHceuM/7+nZ0nTc7j+8m5pGrsLBPx7zp3KYBdG/XoSmTC+dsD9Lt8btfvLCv4vDUJrM49y/LSQz/GKwyz9W2rSgOLjoPxFpLPaDwNS/lrsybThWqD8uFkJ9jMKgv2/1H/ZVuOu/iusHct0ctT9Rx7KMSYTWvxoPpGaluOW/zmnVA5mhgL90s9cfYDLWP6u8dqEweNK/Ik2+7pnN6T+Wpbfss9nHP9REe41j6q0/cue4m2Snuz9umElMhWvsP+OO93Twm+s/c4IO/oM/1L+GfSCQlzDWP3RYcetG/eU/oNmu6AUotb8fQ606n+DDP2o/RzI1x4k/a8eLrEefzz/zrRu2dbzqP85NVQqQKOe/lZ/IuK5Ty7//fub0/efsP05pOGBcJuA/NMcfARlE7z9BeaIn12vWP9vHwzsFBMK/mBkKl82C67/4bHoXpzWyP7hl0ux7ROu/7bzLmYpp578Z7H47RtfZP57Kly0wxuY/v4iGyOrz6D8OfrIWo/zLvw==",
          "dtype": "f8"
         },
         "z": {
          "bdata": "dioGu0iB4L8sdSvo39DuP2aepWhrK+Y/bneivT1XtT/Qq4frDEDnv/bF3un+Mu0/HtXWrbeWyj9U+6dFBDvDPy7gj3Wm8Oo/R5wOnETT679B5ftRHvndP9gGdK2f8O2/kGb/TVIy4T9zc9d55wXtP2uk11/BGGS/AglujKU82r/JmEOh4//pP1eO1R21Euc/QAq8R4FH7z8tvOwzjujHv9ovthmbweq/55Cy3MUGw7+GNVQhvnbZP2GVWe02Yuc/ZURw/s9y7r98hFdDGHbVPwjWahOipt0/nWZcYmSp3T9J3ltOes7Uv0vwOtH5P8e/d9F+auue77+XMDxOcg7rPxuDm8D895i/aBcax7r17r/bz6+Z4tvfP/TdQyOd7OE/rd6PyY4b7z8sxVIbIzDZv8vWZKBfV96/WOnU4c/Cxz8prLS/qmXavxUw/1UxVuQ/uHX8ghUb3r/hgQW5CEPlvz1o9bnmJtm/7vQNDVG6vb9yZuhwLfrrv3Yu2d1Nhba/wkLz1WEq1L+HOh+/2yHmPw==",
          "dtype": "f8"
         }
        },
        {
         "hoverinfo": "none",
         "line": {
          "color": "#0DE2FF",
          "width": 2.5
         },
         "mode": "lines",
         "type": "scatter3d",
         "x": {
          "bdata": "fyn0KYwn7D9Lnlgh0+jqPw==",
          "dtype": "f8"
         },
         "y": {
          "bdata": "hn0gkJcw1j9BeaIn12vWPw==",
          "dtype": "f8"
         },
         "z": {
          "bdata": "Sd5bTnrO1L8prLS/qmXavw==",
          "dtype": "f8"
         }
        },
        {
         "hoverinfo": "none",
         "line": {
          "color": "#0DE2FF",
          "width": 2.5
         },
         "mode": "lines",
         "type": "scatter3d",
         "x": {
          "bdata": "RUGbB7WI5T9BC30ae87nPw==",
          "dtype": "f8"
         },
         "y": {
          "bdata": "vJuaRq7CwT/4bHoXpzWyPw==",
          "dtype": "f8"
         },
         "z": {
          "bdata": "0KuH6wxA57/hgQW5CEPlvw==",
          "dtype": "f8"
         }
        },
        {
         "hoverinfo": "none",
         "line": {
          "color": "#0DE2FF",
          "width": 2.5
         },
         "mode": "lines",
         "type": "scatter3d",
         "x": {
          "bdata": "1votVpNR4r9Liq2KgE3mvw==",
          "dtype": "f8"
         },
         "y": {
          "bdata": "Ik2+7pnN6T+eypctMMbmPw==",
          "dtype": "f8"
         },
         "z": {
          "bdata": "55Cy3MUGw792LtndTYW2vw==",
          "dtype": "f8"
         }
        },
        {
         "hoverinfo": "none",
         "line": {
          "color": "#0DE2FF",
          "width": 2.5
         },
         "mode": "lines",
         "type": "scatter3d",
         "x": {
          "bdata": "EymGoxoP0D8sHXPEsra6Pw==",
          "dtype": "f8"
         },
         "y": {
          "bdata": "7+nZ0nTc7j80xx8BGUTvPw==",
          "dtype": "f8"
         },
         "z": {
          "bdata": "bneivT1XtT9Y6dThz8LHPw==",
          "dtype": "f8"
         }
        },
        {
         "hoverinfo": "none",
         "line": {
          "color": "#0DE2FF",
          "width": 2.5
         },
         "mode": "lines",
         "type": "scatter3d",
         "x": {
          "bdata": "qD+ViYUd1D8ComGAxcfNPw==",
          "dtype": "f8"
         },
         "y": {
          "bdata": "bphJTIVr7D/zrRu2dbzqPw==",
          "dtype": "f8"
         },
         "z": {
          "bdata": "fIRXQxh21T/bz6+Z4tvfPw==",
          "dtype": "f8"
         }
        },
        {
         "hoverinfo": "none",
         "line": {
          "color": "#0DE2FF",
          "width": 2.5
         },
         "mode": "lines",
         "type": "scatter3d",
         "x": {
          "bdata": "iFvQUJMIyT+3oF5kzh7WPw==",
          "dtype": "f8"
         },
         "y": {
          "bdata": "Oaue2O6w6r+4ZdLse0Trvw==",
          "dtype": "f8"
         },
         "z": {
          "bdata": "dioGu0iB4L89aPW55ibZvw==",
          "dtype": "f8"
         }
        },
        {
         "hoverinfo": "none",
         "line": {
          "color": "#0DE2FF",
          "width": 2.5
         },
         "mode": "lines",
         "type": "scatter3d",
         "x": {
          "bdata": "F7fNJN/t0r9fCb8HGsDdvw==",
          "dtype": "f8"
         },
         "y": {
          "bdata": "i8NQmszj3L9Rx7KMSYTWvw==",
          "dtype": "f8"
         },
         "z": {
          "bdata": "LuCPdabw6j/JmEOh4//pPw==",
          "dtype": "f8"
         }
        },
        {
         "hoverinfo": "none",
         "line": {
          "color": "#0DE2FF",
          "width": 2.5
         },
         "mode": "lines",
         "type": "scatter3d",
         "x": {
          "bdata": "SN8n1ZTl078Xt80k3+3Svw==",
          "dtype": "f8"
         },
         "y": {
          "bdata": "HvOncpgF0b+Lw1CazOPcvw==",
          "dtype": "f8"
         },
         "z": {
          "bdata": "9sXe6f4y7T8u4I91pvDqPw==",
          "dtype": "f8"
         }
        },
        {
         "hoverinfo": "none",
         "line": {
          "color": "#0DE2FF",
          "width": 2.5
         },
         "mode": "lines",
         "type": "scatter3d",
         "x": {
          "bdata": "SN8n1ZTl079fCb8HGsDdvw==",
          "dtype": "f8"
         },
         "y": {
          "bdata": "HvOncpgF0b9Rx7KMSYTWvw==",
          "dtype": "f8"
         },
         "z": {
          "bdata": "9sXe6f4y7T/JmEOh4//pPw==",
          "dtype": "f8"
         }
        },
        {
         "hoverinfo": "none",
         "line": {
          "color": "#0DE2FF",
          "width": 2.5
         },
         "mode": "lines",
         "type": "scatter3d",
         "x": {
          "bdata": "cryWHZjx6j9DzPzMCL/sPw==",
          "dtype": "f8"
         },
         "y": {
          "bdata": "lrsybThWqD+Wpbfss9nHPw==",
          "dtype": "f8"
         },
         "z": {
          "bdata": "kGb/TVIy4T+GNVQhvnbZPw==",
          "dtype": "f8"
         }
        },
        {
         "hoverinfo": "none",
         "line": {
          "color": "#0DE2FF",
          "width": 2.5
         },
         "mode": "lines",
         "type": "scatter3d",
         "x": {
          "bdata": "4o9RbPNp3D9WRGhRwm7SPw==",
          "dtype": "f8"
         },
         "y": {
          "bdata": "LSQz/GKwyz9y57ibZKe7Pw==",
          "dtype": "f8"
         },
         "z": {
          "bdata": "R5wOnETT679lRHD+z3Luvw==",
          "dtype": "f8"
         }
        },
        {
         "hoverinfo": "none",
         "line": {
          "color": "#0DE2FF",
          "width": 2.5
         },
         "mode": "lines",
         "type": "scatter3d",
         "x": {
          "bdata": "cgSK1Jpy2z8ComGAxcfNPw==",
          "dtype": "f8"
         },
         "y": {
          "bdata": "Vtq0oDi46D/zrRu2dbzqPw==",
          "dtype": "f8"
         },
         "z": {
          "bdata": "QeX7UR753T/bz6+Z4tvfPw==",
          "dtype": "f8"
         }
        },
        {
         "hoverinfo": "none",
         "line": {
          "color": "#0DE2FF",
          "width": 2.5
         },
         "mode": "lines",
         "type": "scatter3d",
         "x": {
          "bdata": "cgSK1Jpy2z+oP5WJhR3UPw==",
          "dtype": "f8"
         },
         "y": {
          "bdata": "Vtq0oDi46D9umElMhWvsPw==",
          "dtype": "f8"
         },
         "z": {
          "bdata": "QeX7UR753T98hFdDGHbVPw==",
          "dtype": "f8"
         }
        },
        {
         "hoverinfo": "none",
         "line": {
          "color": "#0DE2FF",
          "width": 2.5
         },
         "mode": "lines",
         "type": "scatter3d",
         "x": {
          "bdata": "iChGuac77z8S2mJ3uUfvPw==",
          "dtype": "f8"
         },
         "y": {
          "bdata": "XoSmTC+dsD9Lt8btfvLCvw==",
          "dtype": "f8"
         },
         "z": {
          "bdata": "HtXWrbeWyj9U+6dFBDvDPw==",
          "dtype": "f8"
         }
        },
        {
         "hoverinfo": "none",
         "line": {
          "color": "#0DE2FF",
          "width": 2.5
         },
         "mode": "lines",
         "type": "scatter3d",
         "x": {
          "bdata": "A70m7vbf2j+IyBmWDf7KPw==",
          "dtype": "f8"
         },
         "y": {
          "bdata": "LhZCfYzCoL/OadUDmaGAvw==",
          "dtype": "f8"
         },
         "z": {
          "bdata": "c3PXeecF7T9ACrxHgUfvPw==",
          "dtype": "f8"
         }
        },
        {
         "hoverinfo": "none",
         "line": {
          "color": "#0DE2FF",
          "width": 2.5
         },
         "mode": "lines",
         "type": "scatter3d",
         "x": {
          "bdata": "SN8n1ZTl07+krl0JUNe4vw==",
          "dtype": "f8"
         },
         "y": {
          "bdata": "HvOncpgF0b+Vn8i4rlPLvw==",
          "dtype": "f8"
         },
         "z": {
          "bdata": "9sXe6f4y7T+t3o/JjhvvPw==",
          "dtype": "f8"
         }
        },
        {
         "hoverinfo": "none",
         "line": {
          "color": "#0DE2FF",
          "width": 2.5
         },
         "mode": "lines",
         "type": "scatter3d",
         "x": {
          "bdata": "ACRHfXaC5j+z6D86zE/hPw==",
          "dtype": "f8"
         },
         "y": {
          "bdata": "dFhx60b95T+/iIbI6vPoPw==",
          "dtype": "f8"
         },
         "z": {
          "bdata": "S/A60fk/x7/CQvPVYSrUvw==",
          "dtype": "f8"
         }
        },
        {
         "hoverinfo": "none",
         "line": {
          "color": "#0DE2FF",
          "width": 2.5
         },
         "mode": "lines",
         "type": "scatter3d",
         "x": {
          "bdata": "iChGuac77z9DzPzMCL/sPw==",
          "dtype": "f8"
         },
         "y": {
          "bdata": "XoSmTC+dsD+Wpbfss9nHPw==",
          "dtype": "f8"
         },
         "z": {
          "bdata": "HtXWrbeWyj+GNVQhvnbZPw==",
          "dtype": "f8"
         }
        },
        {
         "hoverinfo": "none",
         "line": {
          "color": "#0DE2FF",
          "width": 2.5
         },
         "mode": "lines",
         "type": "scatter3d",
         "x": {
          "bdata": "aE7LPXj537+FHUj12X7lvw==",
          "dtype": "f8"
         },
         "y": {
          "bdata": "b/Uf9lW467/tvMuZimnnvw==",
          "dtype": "f8"
         },
         "z": {
          "bdata": "a6TXX8EYZL/u9A0NUbq9vw==",
          "dtype": "f8"
         }
        },
        {
         "hoverinfo": "none",
         "line": {
          "color": "#0DE2FF",
          "width": 2.5
         },
         "mode": "lines",
         "type": "scatter3d",
         "x": {
          "bdata": "Ch5LNnHcwT9yT+hQgY7APw==",
          "dtype": "f8"
         },
         "y": {
          "bdata": "EWks9oPA1L+g2a7oBSi1vw==",
          "dtype": "f8"
         },
         "z": {
          "bdata": "2AZ0rZ/w7b930X5q657vvw==",
          "dtype": "f8"
         }
        },
        {
         "hoverinfo": "none",
         "line": {
          "color": "#0DE2FF",
          "width": 2.5
         },
         "mode": "lines",
         "type": "scatter3d",
         "x": {
          "bdata": "VkRoUcJu0j9yT+hQgY7APw==",
          "dtype": "f8"
         },
         "y": {
          "bdata": "cue4m2Snuz+g2a7oBSi1vw==",
          "dtype": "f8"
         },
         "z": {
          "bdata": "ZURw/s9y7r930X5q657vvw==",
          "dtype": "f8"
         }
        },
        {
         "hoverinfo": "none",
         "line": {
          "color": "#0DE2FF",
          "width": 2.5
         },
         "mode": "lines",
         "type": "scatter3d",
         "x": {
          "bdata": "cryWHZjx6j+iF06xzcPlPw==",
          "dtype": "f8"
         },
         "y": {
          "bdata": "lrsybThWqD/URHuNY+qtPw==",
          "dtype": "f8"
         },
         "z": {
          "bdata": "kGb/TVIy4T9hlVntNmLnPw==",
          "dtype": "f8"
         }
        },
        {
         "hoverinfo": "none",
         "line": {
          "color": "#0DE2FF",
          "width": 2.5
         },
         "mode": "lines",
         "type": "scatter3d",
         "x": {
          "bdata": "EymGoxoP0D+oP5WJhR3UPw==",
          "dtype": "f8"
         },
         "y": {
          "bdata": "7+nZ0nTc7j9umElMhWvsPw==",
          "dtype": "f8"
         },
         "z": {
          "bdata": "bneivT1XtT98hFdDGHbVPw==",
          "dtype": "f8"
         }
        },
        {
         "hoverinfo": "none",
         "line": {
          "color": "#0DE2FF",
          "width": 2.5
         },
         "mode": "lines",
         "type": "scatter3d",
         "x": {
          "bdata": "qD+ViYUd1D8sHXPEsra6Pw==",
          "dtype": "f8"
         },
         "y": {
          "bdata": "bphJTIVr7D80xx8BGUTvPw==",
          "dtype": "f8"
         },
         "z": {
          "bdata": "fIRXQxh21T9Y6dThz8LHPw==",
          "dtype": "f8"
         }
        },
        {
         "hoverinfo": "none",
         "line": {
          "color": "#0DE2FF",
          "width": 2.5
         },
         "mode": "lines",
         "type": "scatter3d",
         "x": {
          "bdata": "htClWGAR7T9Lnlgh0+jqPw==",
          "dtype": "f8"
         },
         "y": {
          "bdata": "iusHct0ctT9BeaIn12vWPw==",
          "dtype": "f8"
         },
         "z": {
          "bdata": "AglujKU82r8prLS/qmXavw==",
          "dtype": "f8"
         }
        },
        {
         "hoverinfo": "none",
         "line": {
          "color": "#0DE2FF",
          "width": 2.5
         },
         "mode": "lines",
         "type": "scatter3d",
         "x": {
          "bdata": "htClWGAR7T9/KfQpjCfsPw==",
          "dtype": "f8"
         },
         "y": {
          "bdata": "iusHct0ctT+GfSCQlzDWPw==",
          "dtype": "f8"
         },
         "z": {
          "bdata": "AglujKU82r9J3ltOes7Uvw==",
          "dtype": "f8"
         }
        },
        {
         "hoverinfo": "none",
         "line": {
          "color": "#0DE2FF",
          "width": 2.5
         },
         "mode": "lines",
         "type": "scatter3d",
         "x": {
          "bdata": "ohdOsc3D5T+t0SK5BwfmPw==",
          "dtype": "f8"
         },
         "y": {
          "bdata": "1ER7jWPqrT8OfrIWo/zLvw==",
          "dtype": "f8"
         },
         "z": {
          "bdata": "YZVZ7TZi5z+HOh+/2yHmPw==",
          "dtype": "f8"
         }
        },
        {
         "hoverinfo": "none",
         "line": {
          "color": "#0DE2FF",
          "width": 2.5
         },
         "mode": "lines",
         "type": "scatter3d",
         "x": {
          "bdata": "RUGbB7WI5T/ij1Fs82ncPw==",
          "dtype": "f8"
         },
         "y": {
          "bdata": "vJuaRq7CwT8tJDP8YrDLPw==",
          "dtype": "f8"
         },
         "z": {
          "bdata": "0KuH6wxA579HnA6cRNPrvw==",
          "dtype": "f8"
         }
        },
        {
         "hoverinfo": "none",
         "line": {
          "color": "#0DE2FF",
          "width": 2.5
         },
         "mode": "lines",
         "type": "scatter3d",
         "x": {
          "bdata": "BeativG92D9yBIrUmnLbPw==",
          "dtype": "f8"
         },
         "y": {
          "bdata": "ztFEAdx64z9W2rSgOLjoPw==",
          "dtype": "f8"
         },
         "z": {
          "bdata": "Zp6laGsr5j9B5ftRHvndPw==",
          "dtype": "f8"
         }
        },
        {
         "hoverinfo": "none",
         "line": {
          "color": "#0DE2FF",
          "width": 2.5
         },
         "mode": "lines",
         "type": "scatter3d",
         "x": {
          "bdata": "Wd/jtV+oq7+aapWzWD7Rvw==",
          "dtype": "f8"
         },
         "y": {
          "bdata": "a8eLrEefzz8Z7H47RtfZPw==",
          "dtype": "f8"
         },
         "z": {
          "bdata": "aBcax7r17r9yZuhwLfrrvw==",
          "dtype": "f8"
         }
        },
        {
         "hoverinfo": "none",
         "line": {
          "color": "#0DE2FF",
          "width": 2.5
         },
         "mode": "lines",
         "type": "scatter3d",
         "x": {
          "bdata": "eGHmt5186j+t0SK5BwfmPw==",
          "dtype": "f8"
         },
         "y": {
          "bdata": "c4IO/oM/1L8OfrIWo/zLvw==",
          "dtype": "f8"
         },
         "z": {
          "bdata": "nWZcYmSp3T+HOh+/2yHmPw==",
          "dtype": "f8"
         }
        },
        {
         "hoverinfo": "none",
         "line": {
          "color": "#0DE2FF",
          "width": 2.5
         },
         "mode": "lines",
         "type": "scatter3d",
         "x": {
          "bdata": "htClWGAR7T9BC30ae87nPw==",
          "dtype": "f8"
         },
         "y": {
          "bdata": "iusHct0ctT/4bHoXpzWyPw==",
          "dtype": "f8"
         },
         "z": {
          "bdata": "AglujKU82r/hgQW5CEPlvw==",
          "dtype": "f8"
         }
        },
        {
         "hoverinfo": "none",
         "line": {
          "color": "#0DE2FF",
          "width": 2.5
         },
         "mode": "lines",
         "type": "scatter3d",
         "x": {
          "bdata": "A70m7vbf2j+iF06xzcPlPw==",
          "dtype": "f8"
         },
         "y": {
          "bdata": "LhZCfYzCoL/URHuNY+qtPw==",
          "dtype": "f8"
         },
         "z": {
          "bdata": "c3PXeecF7T9hlVntNmLnPw==",
          "dtype": "f8"
         }
        },
        {
         "hoverinfo": "none",
         "line": {
          "color": "#0DE2FF",
          "width": 2.5
         },
         "mode": "lines",
         "type": "scatter3d",
         "x": {
          "bdata": "PEIxZVDqyb8Sgq5LElngvw==",
          "dtype": "f8"
         },
         "y": {
          "bdata": "HlR3VhXFxj8fQ606n+DDPw==",
          "dtype": "f8"
         },
         "z": {
          "bdata": "LHUr6N/Q7j+XMDxOcg7rPw==",
          "dtype": "f8"
         }
        },
        {
         "hoverinfo": "none",
         "line": {
          "color": "#0DE2FF",
          "width": 2.5
         },
         "mode": "lines",
         "type": "scatter3d",
         "x": {
          "bdata": "F7fNJN/t0r+krl0JUNe4vw==",
          "dtype": "f8"
         },
         "y": {
          "bdata": "i8NQmszj3L+Vn8i4rlPLvw==",
          "dtype": "f8"
         },
         "z": {
          "bdata": "LuCPdabw6j+t3o/JjhvvPw==",
          "dtype": "f8"
         }
        },
        {
         "hoverinfo": "none",
         "line": {
          "color": "#0DE2FF",
          "width": 2.5
         },
         "mode": "lines",
         "type": "scatter3d",
         "x": {
          "bdata": "BeativG92D8ComGAxcfNPw==",
          "dtype": "f8"
         },
         "y": {
          "bdata": "ztFEAdx64z/zrRu2dbzqPw==",
          "dtype": "f8"
         },
         "z": {
          "bdata": "Zp6laGsr5j/bz6+Z4tvfPw==",
          "dtype": "f8"
         }
        },
        {
         "hoverinfo": "none",
         "line": {
          "color": "#0DE2FF",
          "width": 2.5
         },
         "mode": "lines",
         "type": "scatter3d",
         "x": {
          "bdata": "Ch5LNnHcwT/wFIETutrdPw==",
          "dtype": "f8"
         },
         "y": {
          "bdata": "EWks9oPA1L+rvHahMHjSvw==",
          "dtype": "f8"
         },
         "z": {
          "bdata": "2AZ0rZ/w7b/aL7YZm8Hqvw==",
          "dtype": "f8"
         }
        },
        {
         "hoverinfo": "none",
         "line": {
          "color": "#0DE2FF",
          "width": 2.5
         },
         "mode": "lines",
         "type": "scatter3d",
         "x": {
          "bdata": "cryWHZjx6j+t0SK5BwfmPw==",
          "dtype": "f8"
         },
         "y": {
          "bdata": "lrsybThWqD8OfrIWo/zLvw==",
          "dtype": "f8"
         },
         "z": {
          "bdata": "kGb/TVIy4T+HOh+/2yHmPw==",
          "dtype": "f8"
         }
        },
        {
         "hoverinfo": "none",
         "line": {
          "color": "#0DE2FF",
          "width": 2.5
         },
         "mode": "lines",
         "type": "scatter3d",
         "x": {
          "bdata": "iChGuac77z9yvJYdmPHqPw==",
          "dtype": "f8"
         },
         "y": {
          "bdata": "XoSmTC+dsD+WuzJtOFaoPw==",
          "dtype": "f8"
         },
         "z": {
          "bdata": "HtXWrbeWyj+QZv9NUjLhPw==",
          "dtype": "f8"
         }
        },
        {
         "hoverinfo": "none",
         "line": {
          "color": "#0DE2FF",
          "width": 2.5
         },
         "mode": "lines",
         "type": "scatter3d",
         "x": {
          "bdata": "AqJhgMXHzT8sHXPEsra6Pw==",
          "dtype": "f8"
         },
         "y": {
          "bdata": "860btnW86j80xx8BGUTvPw==",
          "dtype": "f8"
         },
         "z": {
          "bdata": "28+vmeLb3z9Y6dThz8LHPw==",
          "dtype": "f8"
         }
        },
        {
         "hoverinfo": "none",
         "line": {
          "color": "#0DE2FF",
          "width": 2.5
         },
         "mode": "lines",
         "type": "scatter3d",
         "x": {
          "bdata": "VkRoUcJu0j9Z3+O1X6irvw==",
          "dtype": "f8"
         },
         "y": {
          "bdata": "cue4m2Snuz9rx4usR5/PPw==",
          "dtype": "f8"
         },
         "z": {
          "bdata": "ZURw/s9y7r9oFxrHuvXuvw==",
          "dtype": "f8"
         }
        },
        {
         "hoverinfo": "none",
         "line": {
          "color": "#0DE2FF",
          "width": 2.5
         },
         "mode": "lines",
         "type": "scatter3d",
         "x": {
          "bdata": "iMgZlg3+yj+krl0JUNe4vw==",
          "dtype": "f8"
         },
         "y": {
          "bdata": "zmnVA5mhgL+Vn8i4rlPLvw==",
          "dtype": "f8"
         },
         "z": {
          "bdata": "QAq8R4FH7z+t3o/JjhvvPw==",
          "dtype": "f8"
         }
        },
        {
         "hoverinfo": "none",
         "line": {
          "color": "#0DE2FF",
          "width": 2.5
         },
         "mode": "lines",
         "type": "scatter3d",
         "x": {
          "bdata": "cryWHZjx6j94Yea3nXzqPw==",
          "dtype": "f8"
         },
         "y": {
          "bdata": "lrsybThWqD9zgg7+gz/Uvw==",
          "dtype": "f8"
         },
         "z": {
          "bdata": "kGb/TVIy4T+dZlxiZKndPw==",
          "dtype": "f8"
         }
        },
        {
         "hoverinfo": "none",
         "line": {
          "color": "#0DE2FF",
          "width": 2.5
         },
         "mode": "lines",
         "type": "scatter3d",
         "x": {
          "bdata": "ck/oUIGOwD9Z3+O1X6irvw==",
          "dtype": "f8"
         },
         "y": {
          "bdata": "oNmu6AUotb9rx4usR5/PPw==",
          "dtype": "f8"
         },
         "z": {
          "bdata": "d9F+auue779oFxrHuvXuvw==",
          "dtype": "f8"
         }
        },
        {
         "hoverinfo": "none",
         "line": {
          "color": "#0DE2FF",
          "width": 2.5
         },
         "mode": "lines",
         "type": "scatter3d",
         "x": {
          "bdata": "Y7HT9J5p7b/AzndJ6vzvvw==",
          "dtype": "f8"
         },
         "y": {
          "bdata": "dLPXH2Ay1j9qP0cyNceJPw==",
          "dtype": "f8"
         },
         "z": {
          "bdata": "LbzsM47ox78bg5vA/PeYvw==",
          "dtype": "f8"
         }
        },
        {
         "hoverinfo": "none",
         "line": {
          "color": "#0DE2FF",
          "width": 2.5
         },
         "mode": "lines",
         "type": "scatter3d",
         "x": {
          "bdata": "Y7HT9J5p7b/J4e38Zxbnvw==",
          "dtype": "f8"
         },
         "y": {
          "bdata": "dLPXH2Ay1j9OaThgXCbgPw==",
          "dtype": "f8"
         },
         "z": {
          "bdata": "LbzsM47ox7/L1mSgX1fevw==",
          "dtype": "f8"
         }
        },
        {
         "hoverinfo": "none",
         "line": {
          "color": "#0DE2FF",
          "width": 2.5
         },
         "mode": "lines",
         "type": "scatter3d",
         "x": {
          "bdata": "Etpid7lH7z94Yea3nXzqPw==",
          "dtype": "f8"
         },
         "y": {
          "bdata": "S7fG7X7ywr9zgg7+gz/Uvw==",
          "dtype": "f8"
         },
         "z": {
          "bdata": "VPunRQQ7wz+dZlxiZKndPw==",
          "dtype": "f8"
         }
        },
        {
         "hoverinfo": "none",
         "line": {
          "color": "#0DE2FF",
          "width": 2.5
         },
         "mode": "lines",
         "type": "scatter3d",
         "x": {
          "bdata": "S55YIdPo6j9BC30ae87nPw==",
          "dtype": "f8"
         },
         "y": {
          "bdata": "QXmiJ9dr1j/4bHoXpzWyPw==",
          "dtype": "f8"
         },
         "z": {
          "bdata": "Kay0v6pl2r/hgQW5CEPlvw==",
          "dtype": "f8"
         }
        },
        {
         "hoverinfo": "none",
         "line": {
          "color": "#0DE2FF",
          "width": 2.5
         },
         "mode": "lines",
         "type": "scatter3d",
         "x": {
          "bdata": "A70m7vbf2j+t0SK5BwfmPw==",
          "dtype": "f8"
         },
         "y": {
          "bdata": "LhZCfYzCoL8OfrIWo/zLvw==",
          "dtype": "f8"
         },
         "z": {
          "bdata": "c3PXeecF7T+HOh+/2yHmPw==",
          "dtype": "f8"
         }
        },
        {
         "hoverinfo": "none",
         "line": {
          "color": "#0DE2FF",
          "width": 2.5
         },
         "mode": "lines",
         "type": "scatter3d",
         "x": {
          "bdata": "4o9RbPNp3D9BC30ae87nPw==",
          "dtype": "f8"
         },
         "y": {
          "bdata": "LSQz/GKwyz/4bHoXpzWyPw==",
          "dtype": "f8"
         },
         "z": {
          "bdata": "R5wOnETT67/hgQW5CEPlvw==",
          "dtype": "f8"
         }
        },
        {
         "hoverinfo": "none",
         "line": {
          "color": "#0DE2FF",
          "width": 2.5
         },
         "mode": "lines",
         "type": "scatter3d",
         "x": {
          "bdata": "iFvQUJMIyT8/aOtPWnnJvw==",
          "dtype": "f8"
         },
         "y": {
          "bdata": "Oaue2O6w6r+YGQqXzYLrvw==",
          "dtype": "f8"
         },
         "z": {
          "bdata": "dioGu0iB4L+4dfyCFRvevw==",
          "dtype": "f8"
         }
        },
        {
         "hoverinfo": "none",
         "line": {
          "color": "#0DE2FF",
          "width": 2.5
         },
         "mode": "lines",
         "type": "scatter3d",
         "x": {
          "bdata": "JZPYWfHXxT+z6D86zE/hPw==",
          "dtype": "f8"
         },
         "y": {
          "bdata": "/37m9P3n7D+/iIbI6vPoPw==",
          "dtype": "f8"
         },
         "z": {
          "bdata": "LMVSGyMw2b/CQvPVYSrUvw==",
          "dtype": "f8"
         }
        },
        {
         "hoverinfo": "none",
         "line": {
          "color": "#0DE2FF",
          "width": 2.5
         },
         "mode": "lines",
         "type": "scatter3d",
         "x": {
          "bdata": "RUGbB7WI5T+G0KVYYBHtPw==",
          "dtype": "f8"
         },
         "y": {
          "bdata": "vJuaRq7CwT+K6wdy3Ry1Pw==",
          "dtype": "f8"
         },
         "z": {
          "bdata": "0KuH6wxA578CCW6MpTzavw==",
          "dtype": "f8"
         }
        },
        {
         "hoverinfo": "none",
         "line": {
          "color": "#0DE2FF",
          "width": 2.5
         },
         "mode": "lines",
         "type": "scatter3d",
         "x": {
          "bdata": "Xwm/BxrA3b/krpE77Erovw==",
          "dtype": "f8"
         },
         "y": {
          "bdata": "UceyjEmE1r/bx8M7BQTCvw==",
          "dtype": "f8"
         },
         "z": {
          "bdata": "yZhDoeP/6T8VMP9VMVbkPw==",
          "dtype": "f8"
         }
        },
        {
         "hoverinfo": "none",
         "line": {
          "color": "#0DE2FF",
          "width": 2.5
         },
         "mode": "lines",
         "type": "scatter3d",
         "x": {
          "bdata": "PEIxZVDqyb+krl0JUNe4vw==",
          "dtype": "f8"
         },
         "y": {
          "bdata": "HlR3VhXFxj+Vn8i4rlPLvw==",
          "dtype": "f8"
         },
         "z": {
          "bdata": "LHUr6N/Q7j+t3o/JjhvvPw==",
          "dtype": "f8"
         }
        },
        {
         "hoverinfo": "none",
         "line": {
          "color": "#0DE2FF",
          "width": 2.5
         },
         "mode": "lines",
         "type": "scatter3d",
         "x": {
          "bdata": "F7fNJN/t0r8AXVU7vMzZvw==",
          "dtype": "f8"
         },
         "y": {
          "bdata": "i8NQmszj3L/OTVUKkCjnvw==",
          "dtype": "f8"
         },
         "z": {
          "bdata": "LuCPdabw6j/03UMjnezhPw==",
          "dtype": "f8"
         }
        },
        {
         "hoverinfo": "none",
         "line": {
          "color": "#0DE2FF",
          "width": 2.5
         },
         "mode": "lines",
         "type": "scatter3d",
         "x": {
          "bdata": "fyn0KYwn7D8AJEd9doLmPw==",
          "dtype": "f8"
         },
         "y": {
          "bdata": "hn0gkJcw1j90WHHrRv3lPw==",
          "dtype": "f8"
         },
         "z": {
          "bdata": "Sd5bTnrO1L9L8DrR+T/Hvw==",
          "dtype": "f8"
         }
        },
        {
         "hoverinfo": "none",
         "line": {
          "color": "#0DE2FF",
          "width": 2.5
         },
         "mode": "lines",
         "type": "scatter3d",
         "x": {
          "bdata": "RUGbB7WI5T9Lnlgh0+jqPw==",
          "dtype": "f8"
         },
         "y": {
          "bdata": "vJuaRq7CwT9BeaIn12vWPw==",
          "dtype": "f8"
         },
         "z": {
          "bdata": "0KuH6wxA578prLS/qmXavw==",
          "dtype": "f8"
         }
        },
        {
         "hoverinfo": "none",
         "line": {
          "color": "#0DE2FF",
          "width": 2.5
         },
         "mode": "lines",
         "type": "scatter3d",
         "x": {
          "bdata": "Q8z8zAi/7D+iF06xzcPlPw==",
          "dtype": "f8"
         },
         "y": {
          "bdata": "lqW37LPZxz/URHuNY+qtPw==",
          "dtype": "f8"
         },
         "z": {
          "bdata": "hjVUIb522T9hlVntNmLnPw==",
          "dtype": "f8"
         }
        },
        {
         "hoverinfo": "none",
         "line": {
          "color": "#0DE2FF",
          "width": 2.5
         },
         "mode": "lines",
         "type": "scatter3d",
         "x": {
          "bdata": "8BSBE7ra3T9yT+hQgY7APw==",
          "dtype": "f8"
         },
         "y": {
          "bdata": "q7x2oTB40r+g2a7oBSi1vw==",
          "dtype": "f8"
         },
         "z": {
          "bdata": "2i+2GZvB6r930X5q657vvw==",
          "dtype": "f8"
         }
        },
        {
         "hoverinfo": "none",
         "line": {
          "color": "#0DE2FF",
          "width": 2.5
         },
         "mode": "lines",
         "type": "scatter3d",
         "x": {
          "bdata": "Etpid7lH7z9DzPzMCL/sPw==",
          "dtype": "f8"
         },
         "y": {
          "bdata": "S7fG7X7ywr+Wpbfss9nHPw==",
          "dtype": "f8"
         },
         "z": {
          "bdata": "VPunRQQ7wz+GNVQhvnbZPw==",
          "dtype": "f8"
         }
        },
        {
         "hoverinfo": "none",
         "line": {
          "color": "#0DE2FF",
          "width": 2.5
         },
         "mode": "lines",
         "type": "scatter3d",
         "x": {
          "bdata": "Xwm/BxrA3b+krl0JUNe4vw==",
          "dtype": "f8"
         },
         "y": {
          "bdata": "UceyjEmE1r+Vn8i4rlPLvw==",
          "dtype": "f8"
         },
         "z": {
          "bdata": "yZhDoeP/6T+t3o/JjhvvPw==",
          "dtype": "f8"
         }
        },
        {
         "hoverinfo": "none",
         "line": {
          "color": "#0DE2FF",
          "width": 2.5
         },
         "mode": "lines",
         "type": "scatter3d",
         "x": {
          "bdata": "PRhtXqXnyb8sHXPEsra6Pw==",
          "dtype": "f8"
         },
         "y": {
          "bdata": "4473dPCb6z80xx8BGUTvPw==",
          "dtype": "f8"
         },
         "z": {
          "bdata": "CNZqE6Km3T9Y6dThz8LHPw==",
          "dtype": "f8"
         }
        },
        {
         "hoverinfo": "none",
         "line": {
          "color": "#0DE2FF",
          "width": 2.5
         },
         "mode": "lines",
         "type": "scatter3d",
         "x": {
          "bdata": "ACRHfXaC5j9Lnlgh0+jqPw==",
          "dtype": "f8"
         },
         "y": {
          "bdata": "dFhx60b95T9BeaIn12vWPw==",
          "dtype": "f8"
         },
         "z": {
          "bdata": "S/A60fk/x78prLS/qmXavw==",
          "dtype": "f8"
         }
        },
        {
         "hoverinfo": "none",
         "line": {
          "color": "#0DE2FF",
          "width": 2.5
         },
         "mode": "lines",
         "type": "scatter3d",
         "x": {
          "bdata": "EymGoxoP0D8ComGAxcfNPw==",
          "dtype": "f8"
         },
         "y": {
          "bdata": "7+nZ0nTc7j/zrRu2dbzqPw==",
          "dtype": "f8"
         },
         "z": {
          "bdata": "bneivT1XtT/bz6+Z4tvfPw==",
          "dtype": "f8"
         }
        },
        {
         "hoverinfo": "none",
         "line": {
          "color": "#0DE2FF",
          "width": 2.5
         },
         "mode": "lines",
         "type": "scatter3d",
         "x": {
          "bdata": "PRhtXqXnyb8ComGAxcfNPw==",
          "dtype": "f8"
         },
         "y": {
          "bdata": "4473dPCb6z/zrRu2dbzqPw==",
          "dtype": "f8"
         },
         "z": {
          "bdata": "CNZqE6Km3T/bz6+Z4tvfPw==",
          "dtype": "f8"
         }
        },
        {
         "hoverinfo": "none",
         "line": {
          "color": "#0DE2FF",
          "width": 2.5
         },
         "mode": "lines",
         "type": "scatter3d",
         "x": {
          "bdata": "Y7HT9J5p7b9Liq2KgE3mvw==",
          "dtype": "f8"
         },
         "y": {
          "bdata": "dLPXH2Ay1j+eypctMMbmPw==",
          "dtype": "f8"
         },
         "z": {
          "bdata": "LbzsM47ox792LtndTYW2vw==",
          "dtype": "f8"
         }
        },
        {
         "hoverinfo": "none",
         "line": {
          "color": "#0DE2FF",
          "width": 2.5
         },
         "mode": "lines",
         "type": "scatter3d",
         "x": {
          "bdata": "yeHt/GcW579Liq2KgE3mvw==",
          "dtype": "f8"
         },
         "y": {
          "bdata": "Tmk4YFwm4D+eypctMMbmPw==",
          "dtype": "f8"
         },
         "z": {
          "bdata": "y9ZkoF9X3r92LtndTYW2vw==",
          "dtype": "f8"
         }
        },
        {
         "hoverinfo": "none",
         "line": {
          "color": "#0DE2FF",
          "width": 2.5
         },
         "mode": "lines",
         "type": "scatter3d",
         "x": {
          "bdata": "EoKuSxJZ4L/krpE77Erovw==",
          "dtype": "f8"
         },
         "y": {
          "bdata": "H0OtOp/gwz/bx8M7BQTCvw==",
          "dtype": "f8"
         },
         "z": {
          "bdata": "lzA8TnIO6z8VMP9VMVbkPw==",
          "dtype": "f8"
         }
        },
        {
         "hoverinfo": "none",
         "line": {
          "color": "#0DE2FF",
          "width": 2.5
         },
         "mode": "lines",
         "type": "scatter3d",
         "x": {
          "bdata": "RUGbB7WI5T9WRGhRwm7SPw==",
          "dtype": "f8"
         },
         "y": {
          "bdata": "vJuaRq7CwT9y57ibZKe7Pw==",
          "dtype": "f8"
         },
         "z": {
          "bdata": "0KuH6wxA579lRHD+z3Luvw==",
          "dtype": "f8"
         }
        },
        {
         "hoverinfo": "none",
         "line": {
          "color": "#0DE2FF",
          "width": 2.5
         },
         "mode": "lines",
         "type": "scatter3d",
         "x": {
          "bdata": "4o9RbPNp3D9yT+hQgY7APw==",
          "dtype": "f8"
         },
         "y": {
          "bdata": "LSQz/GKwyz+g2a7oBSi1vw==",
          "dtype": "f8"
         },
         "z": {
          "bdata": "R5wOnETT67930X5q657vvw==",
          "dtype": "f8"
         }
        },
        {
         "hoverinfo": "none",
         "line": {
          "color": "#0DE2FF",
          "width": 2.5
         },
         "mode": "lines",
         "type": "scatter3d",
         "x": {
          "bdata": "8BSBE7ra3T9WRGhRwm7SPw==",
          "dtype": "f8"
         },
         "y": {
          "bdata": "q7x2oTB40r9y57ibZKe7Pw==",
          "dtype": "f8"
         },
         "z": {
          "bdata": "2i+2GZvB6r9lRHD+z3Luvw==",
          "dtype": "f8"
         }
        },
        {
         "hoverinfo": "none",
         "line": {
          "color": "#0DE2FF",
          "width": 2.5
         },
         "mode": "lines",
         "type": "scatter3d",
         "x": {
          "bdata": "PEIxZVDqyb+IyBmWDf7KPw==",
          "dtype": "f8"
         },
         "y": {
          "bdata": "HlR3VhXFxj/OadUDmaGAvw==",
          "dtype": "f8"
         },
         "z": {
          "bdata": "LHUr6N/Q7j9ACrxHgUfvPw==",
          "dtype": "f8"
         }
        },
        {
         "hoverinfo": "none",
         "line": {
          "color": "#0DE2FF",
          "width": 2.5
         },
         "mode": "lines",
         "type": "scatter3d",
         "x": {
          "bdata": "Xwm/BxrA3b8AXVU7vMzZvw==",
          "dtype": "f8"
         },
         "y": {
          "bdata": "UceyjEmE1r/OTVUKkCjnvw==",
          "dtype": "f8"
         },
         "z": {
          "bdata": "yZhDoeP/6T/03UMjnezhPw==",
          "dtype": "f8"
         }
        },
        {
         "hoverinfo": "none",
         "line": {
          "color": "#0DE2FF",
          "width": 2.5
         },
         "mode": "lines",
         "type": "scatter3d",
         "x": {
          "bdata": "Etpid7lH7z9yvJYdmPHqPw==",
          "dtype": "f8"
         },
         "y": {
          "bdata": "S7fG7X7ywr+WuzJtOFaoPw==",
          "dtype": "f8"
         },
         "z": {
          "bdata": "VPunRQQ7wz+QZv9NUjLhPw==",
          "dtype": "f8"
         }
        },
        {
         "hoverinfo": "none",
         "line": {
          "color": "#0DE2FF",
          "width": 2.5
         },
         "mode": "lines",
         "type": "scatter3d",
         "x": {
          "bdata": "Ch5LNnHcwT9WRGhRwm7SPw==",
          "dtype": "f8"
         },
         "y": {
          "bdata": "EWks9oPA1L9y57ibZKe7Pw==",
          "dtype": "f8"
         },
         "z": {
          "bdata": "2AZ0rZ/w7b9lRHD+z3Luvw==",
          "dtype": "f8"
         }
        },
        {
         "hoverinfo": "none",
         "line": {
          "color": "#0DE2FF",
          "width": 2.5
         },
         "mode": "lines",
         "type": "scatter3d",
         "x": {
          "bdata": "fyn0KYwn7D9BC30ae87nPw==",
          "dtype": "f8"
         },
         "y": {
          "bdata": "hn0gkJcw1j/4bHoXpzWyPw==",
          "dtype": "f8"
         },
         "z": {
          "bdata": "Sd5bTnrO1L/hgQW5CEPlvw==",
          "dtype": "f8"
         }
        },
        {
         "hoverinfo": "none",
         "line": {
          "color": "#0DE2FF",
          "width": 2.5
         },
         "mode": "lines",
         "type": "scatter3d",
         "x": {
          "bdata": "BeativG92D+oP5WJhR3UPw==",
          "dtype": "f8"
         },
         "y": {
          "bdata": "ztFEAdx64z9umElMhWvsPw==",
          "dtype": "f8"
         },
         "z": {
          "bdata": "Zp6laGsr5j98hFdDGHbVPw==",
          "dtype": "f8"
         }
        },
        {
         "hoverinfo": "none",
         "line": {
          "color": "#0DE2FF",
          "width": 2.5
         },
         "mode": "lines",
         "type": "scatter3d",
         "x": {
          "bdata": "PEIxZVDqyb9I3yfVlOXTvw==",
          "dtype": "f8"
         },
         "y": {
          "bdata": "HlR3VhXFxj8e86dymAXRvw==",
          "dtype": "f8"
         },
         "z": {
          "bdata": "LHUr6N/Q7j/2xd7p/jLtPw==",
          "dtype": "f8"
         }
        },
        {
         "hoverinfo": "none",
         "line": {
          "color": "#0DE2FF",
          "width": 2.5
         },
         "mode": "lines",
         "type": "scatter3d",
         "x": {
          "bdata": "EymGoxoP0D9yBIrUmnLbPw==",
          "dtype": "f8"
         },
         "y": {
          "bdata": "7+nZ0nTc7j9W2rSgOLjoPw==",
          "dtype": "f8"
         },
         "z": {
          "bdata": "bneivT1XtT9B5ftRHvndPw==",
          "dtype": "f8"
         }
        },
        {
         "hoverinfo": "none",
         "line": {
          "color": "#0DE2FF",
          "width": 2.5
         },
         "mode": "lines",
         "type": "scatter3d",
         "x": {
          "bdata": "1votVpNR4r/J4e38Zxbnvw==",
          "dtype": "f8"
         },
         "y": {
          "bdata": "Ik2+7pnN6T9OaThgXCbgPw==",
          "dtype": "f8"
         },
         "z": {
          "bdata": "55Cy3MUGw7/L1mSgX1fevw==",
          "dtype": "f8"
         }
        },
        {
         "hoverinfo": "none",
         "line": {
          "color": "#0DE2FF",
          "width": 2.5
         },
         "mode": "lines",
         "type": "scatter3d",
         "x": {
          "bdata": "SN8n1ZTl078Sgq5LElngvw==",
          "dtype": "f8"
         },
         "y": {
          "bdata": "HvOncpgF0b8fQ606n+DDPw==",
          "dtype": "f8"
         },
         "z": {
          "bdata": "9sXe6f4y7T+XMDxOcg7rPw==",
          "dtype": "f8"
         }
        },
        {
         "hoverinfo": "none",
         "line": {
          "color": "#0DE2FF",
          "width": 2.5
         },
         "mode": "lines",
         "type": "scatter3d",
         "x": {
          "bdata": "cgSK1Jpy2z8sHXPEsra6Pw==",
          "dtype": "f8"
         },
         "y": {
          "bdata": "Vtq0oDi46D80xx8BGUTvPw==",
          "dtype": "f8"
         },
         "z": {
          "bdata": "QeX7UR753T9Y6dThz8LHPw==",
          "dtype": "f8"
         }
        },
        {
         "hoverinfo": "none",
         "line": {
          "color": "#0DE2FF",
          "width": 2.5
         },
         "mode": "lines",
         "type": "scatter3d",
         "x": {
          "bdata": "iChGuac77z94Yea3nXzqPw==",
          "dtype": "f8"
         },
         "y": {
          "bdata": "XoSmTC+dsD9zgg7+gz/Uvw==",
          "dtype": "f8"
         },
         "z": {
          "bdata": "HtXWrbeWyj+dZlxiZKndPw==",
          "dtype": "f8"
         }
        },
        {
         "hoverinfo": "none",
         "line": {
          "color": "#0DE2FF",
          "width": 2.5
         },
         "mode": "lines",
         "type": "scatter3d",
         "x": {
          "bdata": "ohdOsc3D5T94Yea3nXzqPw==",
          "dtype": "f8"
         },
         "y": {
          "bdata": "1ER7jWPqrT9zgg7+gz/Uvw==",
          "dtype": "f8"
         },
         "z": {
          "bdata": "YZVZ7TZi5z+dZlxiZKndPw==",
          "dtype": "f8"
         }
        },
        {
         "hoverinfo": "none",
         "line": {
          "color": "#0DE2FF",
          "width": 2.5
         },
         "mode": "lines",
         "type": "scatter3d",
         "x": {
          "bdata": "8BSBE7ra3T9BC30ae87nPw==",
          "dtype": "f8"
         },
         "y": {
          "bdata": "q7x2oTB40r/4bHoXpzWyPw==",
          "dtype": "f8"
         },
         "z": {
          "bdata": "2i+2GZvB6r/hgQW5CEPlvw==",
          "dtype": "f8"
         }
        },
        {
         "hoverinfo": "none",
         "line": {
          "color": "#0DE2FF",
          "width": 2.5
         },
         "mode": "lines",
         "type": "scatter3d",
         "x": {
          "bdata": "RUGbB7WI5T/wFIETutrdPw==",
          "dtype": "f8"
         },
         "y": {
          "bdata": "vJuaRq7CwT+rvHahMHjSvw==",
          "dtype": "f8"
         },
         "z": {
          "bdata": "0KuH6wxA57/aL7YZm8Hqvw==",
          "dtype": "f8"
         }
        },
        {
         "hoverinfo": "none",
         "line": {
          "color": "#0DE2FF",
          "width": 2.5
         },
         "mode": "lines",
         "type": "scatter3d",
         "x": {
          "bdata": "EymGoxoP0D8lk9hZ8dfFPw==",
          "dtype": "f8"
         },
         "y": {
          "bdata": "7+nZ0nTc7j//fub0/efsPw==",
          "dtype": "f8"
         },
         "z": {
          "bdata": "bneivT1XtT8sxVIbIzDZvw==",
          "dtype": "f8"
         }
        },
        {
         "hoverinfo": "none",
         "line": {
          "color": "#0DE2FF",
          "width": 2.5
         },
         "mode": "lines",
         "type": "scatter3d",
         "x": {
          "bdata": "RUGbB7WI5T9/KfQpjCfsPw==",
          "dtype": "f8"
         },
         "y": {
          "bdata": "vJuaRq7CwT+GfSCQlzDWPw==",
          "dtype": "f8"
         },
         "z": {
          "bdata": "0KuH6wxA579J3ltOes7Uvw==",
          "dtype": "f8"
         }
        }
       ],
       "layout": {
        "height": 1000,
        "margin": {
         "b": 0,
         "l": 0,
         "r": 0,
         "t": 0
        },
        "scene": {
         "camera": {
          "center": {
           "x": 0,
           "y": 0,
           "z": 0
          },
          "eye": {
           "x": 0.15,
           "y": 0.15,
           "z": 0.15
          },
          "up": {
           "x": 0,
           "y": 0,
           "z": 1
          }
         },
         "xaxis": {
          "backgroundcolor": "#0f1117",
          "gridcolor": "white",
          "range": [
           -10,
           10
          ],
          "showbackground": true,
          "showticklabels": false,
          "title": {
           "text": ""
          }
         },
         "yaxis": {
          "backgroundcolor": "#0f1117",
          "gridcolor": "white",
          "range": [
           -10,
           10
          ],
          "showbackground": true,
          "showticklabels": false,
          "title": {
           "text": ""
          }
         },
         "zaxis": {
          "backgroundcolor": "#0f1117",
          "gridcolor": "white",
          "range": [
           -10,
           10
          ],
          "showbackground": true,
          "showticklabels": false,
          "title": {
           "text": ""
          }
         }
        },
        "showlegend": false,
        "template": {
         "data": {
          "bar": [
           {
            "error_x": {
             "color": "#2a3f5f"
            },
            "error_y": {
             "color": "#2a3f5f"
            },
            "marker": {
             "line": {
              "color": "#E5ECF6",
              "width": 0.5
             },
             "pattern": {
              "fillmode": "overlay",
              "size": 10,
              "solidity": 0.2
             }
            },
            "type": "bar"
           }
          ],
          "barpolar": [
           {
            "marker": {
             "line": {
              "color": "#E5ECF6",
              "width": 0.5
             },
             "pattern": {
              "fillmode": "overlay",
              "size": 10,
              "solidity": 0.2
             }
            },
            "type": "barpolar"
           }
          ],
          "carpet": [
           {
            "aaxis": {
             "endlinecolor": "#2a3f5f",
             "gridcolor": "white",
             "linecolor": "white",
             "minorgridcolor": "white",
             "startlinecolor": "#2a3f5f"
            },
            "baxis": {
             "endlinecolor": "#2a3f5f",
             "gridcolor": "white",
             "linecolor": "white",
             "minorgridcolor": "white",
             "startlinecolor": "#2a3f5f"
            },
            "type": "carpet"
           }
          ],
          "choropleth": [
           {
            "colorbar": {
             "outlinewidth": 0,
             "ticks": ""
            },
            "type": "choropleth"
           }
          ],
          "contour": [
           {
            "colorbar": {
             "outlinewidth": 0,
             "ticks": ""
            },
            "colorscale": [
             [
              0,
              "#0d0887"
             ],
             [
              0.1111111111111111,
              "#46039f"
             ],
             [
              0.2222222222222222,
              "#7201a8"
             ],
             [
              0.3333333333333333,
              "#9c179e"
             ],
             [
              0.4444444444444444,
              "#bd3786"
             ],
             [
              0.5555555555555556,
              "#d8576b"
             ],
             [
              0.6666666666666666,
              "#ed7953"
             ],
             [
              0.7777777777777778,
              "#fb9f3a"
             ],
             [
              0.8888888888888888,
              "#fdca26"
             ],
             [
              1,
              "#f0f921"
             ]
            ],
            "type": "contour"
           }
          ],
          "contourcarpet": [
           {
            "colorbar": {
             "outlinewidth": 0,
             "ticks": ""
            },
            "type": "contourcarpet"
           }
          ],
          "heatmap": [
           {
            "colorbar": {
             "outlinewidth": 0,
             "ticks": ""
            },
            "colorscale": [
             [
              0,
              "#0d0887"
             ],
             [
              0.1111111111111111,
              "#46039f"
             ],
             [
              0.2222222222222222,
              "#7201a8"
             ],
             [
              0.3333333333333333,
              "#9c179e"
             ],
             [
              0.4444444444444444,
              "#bd3786"
             ],
             [
              0.5555555555555556,
              "#d8576b"
             ],
             [
              0.6666666666666666,
              "#ed7953"
             ],
             [
              0.7777777777777778,
              "#fb9f3a"
             ],
             [
              0.8888888888888888,
              "#fdca26"
             ],
             [
              1,
              "#f0f921"
             ]
            ],
            "type": "heatmap"
           }
          ],
          "histogram": [
           {
            "marker": {
             "pattern": {
              "fillmode": "overlay",
              "size": 10,
              "solidity": 0.2
             }
            },
            "type": "histogram"
           }
          ],
          "histogram2d": [
           {
            "colorbar": {
             "outlinewidth": 0,
             "ticks": ""
            },
            "colorscale": [
             [
              0,
              "#0d0887"
             ],
             [
              0.1111111111111111,
              "#46039f"
             ],
             [
              0.2222222222222222,
              "#7201a8"
             ],
             [
              0.3333333333333333,
              "#9c179e"
             ],
             [
              0.4444444444444444,
              "#bd3786"
             ],
             [
              0.5555555555555556,
              "#d8576b"
             ],
             [
              0.6666666666666666,
              "#ed7953"
             ],
             [
              0.7777777777777778,
              "#fb9f3a"
             ],
             [
              0.8888888888888888,
              "#fdca26"
             ],
             [
              1,
              "#f0f921"
             ]
            ],
            "type": "histogram2d"
           }
          ],
          "histogram2dcontour": [
           {
            "colorbar": {
             "outlinewidth": 0,
             "ticks": ""
            },
            "colorscale": [
             [
              0,
              "#0d0887"
             ],
             [
              0.1111111111111111,
              "#46039f"
             ],
             [
              0.2222222222222222,
              "#7201a8"
             ],
             [
              0.3333333333333333,
              "#9c179e"
             ],
             [
              0.4444444444444444,
              "#bd3786"
             ],
             [
              0.5555555555555556,
              "#d8576b"
             ],
             [
              0.6666666666666666,
              "#ed7953"
             ],
             [
              0.7777777777777778,
              "#fb9f3a"
             ],
             [
              0.8888888888888888,
              "#fdca26"
             ],
             [
              1,
              "#f0f921"
             ]
            ],
            "type": "histogram2dcontour"
           }
          ],
          "mesh3d": [
           {
            "colorbar": {
             "outlinewidth": 0,
             "ticks": ""
            },
            "type": "mesh3d"
           }
          ],
          "parcoords": [
           {
            "line": {
             "colorbar": {
              "outlinewidth": 0,
              "ticks": ""
             }
            },
            "type": "parcoords"
           }
          ],
          "pie": [
           {
            "automargin": true,
            "type": "pie"
           }
          ],
          "scatter": [
           {
            "fillpattern": {
             "fillmode": "overlay",
             "size": 10,
             "solidity": 0.2
            },
            "type": "scatter"
           }
          ],
          "scatter3d": [
           {
            "line": {
             "colorbar": {
              "outlinewidth": 0,
              "ticks": ""
             }
            },
            "marker": {
             "colorbar": {
              "outlinewidth": 0,
              "ticks": ""
             }
            },
            "type": "scatter3d"
           }
          ],
          "scattercarpet": [
           {
            "marker": {
             "colorbar": {
              "outlinewidth": 0,
              "ticks": ""
             }
            },
            "type": "scattercarpet"
           }
          ],
          "scattergeo": [
           {
            "marker": {
             "colorbar": {
              "outlinewidth": 0,
              "ticks": ""
             }
            },
            "type": "scattergeo"
           }
          ],
          "scattergl": [
           {
            "marker": {
             "colorbar": {
              "outlinewidth": 0,
              "ticks": ""
             }
            },
            "type": "scattergl"
           }
          ],
          "scattermap": [
           {
            "marker": {
             "colorbar": {
              "outlinewidth": 0,
              "ticks": ""
             }
            },
            "type": "scattermap"
           }
          ],
          "scattermapbox": [
           {
            "marker": {
             "colorbar": {
              "outlinewidth": 0,
              "ticks": ""
             }
            },
            "type": "scattermapbox"
           }
          ],
          "scatterpolar": [
           {
            "marker": {
             "colorbar": {
              "outlinewidth": 0,
              "ticks": ""
             }
            },
            "type": "scatterpolar"
           }
          ],
          "scatterpolargl": [
           {
            "marker": {
             "colorbar": {
              "outlinewidth": 0,
              "ticks": ""
             }
            },
            "type": "scatterpolargl"
           }
          ],
          "scatterternary": [
           {
            "marker": {
             "colorbar": {
              "outlinewidth": 0,
              "ticks": ""
             }
            },
            "type": "scatterternary"
           }
          ],
          "surface": [
           {
            "colorbar": {
             "outlinewidth": 0,
             "ticks": ""
            },
            "colorscale": [
             [
              0,
              "#0d0887"
             ],
             [
              0.1111111111111111,
              "#46039f"
             ],
             [
              0.2222222222222222,
              "#7201a8"
             ],
             [
              0.3333333333333333,
              "#9c179e"
             ],
             [
              0.4444444444444444,
              "#bd3786"
             ],
             [
              0.5555555555555556,
              "#d8576b"
             ],
             [
              0.6666666666666666,
              "#ed7953"
             ],
             [
              0.7777777777777778,
              "#fb9f3a"
             ],
             [
              0.8888888888888888,
              "#fdca26"
             ],
             [
              1,
              "#f0f921"
             ]
            ],
            "type": "surface"
           }
          ],
          "table": [
           {
            "cells": {
             "fill": {
              "color": "#EBF0F8"
             },
             "line": {
              "color": "white"
             }
            },
            "header": {
             "fill": {
              "color": "#C8D4E3"
             },
             "line": {
              "color": "white"
             }
            },
            "type": "table"
           }
          ]
         },
         "layout": {
          "annotationdefaults": {
           "arrowcolor": "#2a3f5f",
           "arrowhead": 0,
           "arrowwidth": 1
          },
          "autotypenumbers": "strict",
          "coloraxis": {
           "colorbar": {
            "outlinewidth": 0,
            "ticks": ""
           }
          },
          "colorscale": {
           "diverging": [
            [
             0,
             "#8e0152"
            ],
            [
             0.1,
             "#c51b7d"
            ],
            [
             0.2,
             "#de77ae"
            ],
            [
             0.3,
             "#f1b6da"
            ],
            [
             0.4,
             "#fde0ef"
            ],
            [
             0.5,
             "#f7f7f7"
            ],
            [
             0.6,
             "#e6f5d0"
            ],
            [
             0.7,
             "#b8e186"
            ],
            [
             0.8,
             "#7fbc41"
            ],
            [
             0.9,
             "#4d9221"
            ],
            [
             1,
             "#276419"
            ]
           ],
           "sequential": [
            [
             0,
             "#0d0887"
            ],
            [
             0.1111111111111111,
             "#46039f"
            ],
            [
             0.2222222222222222,
             "#7201a8"
            ],
            [
             0.3333333333333333,
             "#9c179e"
            ],
            [
             0.4444444444444444,
             "#bd3786"
            ],
            [
             0.5555555555555556,
             "#d8576b"
            ],
            [
             0.6666666666666666,
             "#ed7953"
            ],
            [
             0.7777777777777778,
             "#fb9f3a"
            ],
            [
             0.8888888888888888,
             "#fdca26"
            ],
            [
             1,
             "#f0f921"
            ]
           ],
           "sequentialminus": [
            [
             0,
             "#0d0887"
            ],
            [
             0.1111111111111111,
             "#46039f"
            ],
            [
             0.2222222222222222,
             "#7201a8"
            ],
            [
             0.3333333333333333,
             "#9c179e"
            ],
            [
             0.4444444444444444,
             "#bd3786"
            ],
            [
             0.5555555555555556,
             "#d8576b"
            ],
            [
             0.6666666666666666,
             "#ed7953"
            ],
            [
             0.7777777777777778,
             "#fb9f3a"
            ],
            [
             0.8888888888888888,
             "#fdca26"
            ],
            [
             1,
             "#f0f921"
            ]
           ]
          },
          "colorway": [
           "#636efa",
           "#EF553B",
           "#00cc96",
           "#ab63fa",
           "#FFA15A",
           "#19d3f3",
           "#FF6692",
           "#B6E880",
           "#FF97FF",
           "#FECB52"
          ],
          "font": {
           "color": "#2a3f5f"
          },
          "geo": {
           "bgcolor": "white",
           "lakecolor": "white",
           "landcolor": "#E5ECF6",
           "showlakes": true,
           "showland": true,
           "subunitcolor": "white"
          },
          "hoverlabel": {
           "align": "left"
          },
          "hovermode": "closest",
          "mapbox": {
           "style": "light"
          },
          "paper_bgcolor": "white",
          "plot_bgcolor": "#E5ECF6",
          "polar": {
           "angularaxis": {
            "gridcolor": "white",
            "linecolor": "white",
            "ticks": ""
           },
           "bgcolor": "#E5ECF6",
           "radialaxis": {
            "gridcolor": "white",
            "linecolor": "white",
            "ticks": ""
           }
          },
          "scene": {
           "xaxis": {
            "backgroundcolor": "#E5ECF6",
            "gridcolor": "white",
            "gridwidth": 2,
            "linecolor": "white",
            "showbackground": true,
            "ticks": "",
            "zerolinecolor": "white"
           },
           "yaxis": {
            "backgroundcolor": "#E5ECF6",
            "gridcolor": "white",
            "gridwidth": 2,
            "linecolor": "white",
            "showbackground": true,
            "ticks": "",
            "zerolinecolor": "white"
           },
           "zaxis": {
            "backgroundcolor": "#E5ECF6",
            "gridcolor": "white",
            "gridwidth": 2,
            "linecolor": "white",
            "showbackground": true,
            "ticks": "",
            "zerolinecolor": "white"
           }
          },
          "shapedefaults": {
           "line": {
            "color": "#2a3f5f"
           }
          },
          "ternary": {
           "aaxis": {
            "gridcolor": "white",
            "linecolor": "white",
            "ticks": ""
           },
           "baxis": {
            "gridcolor": "white",
            "linecolor": "white",
            "ticks": ""
           },
           "bgcolor": "#E5ECF6",
           "caxis": {
            "gridcolor": "white",
            "linecolor": "white",
            "ticks": ""
           }
          },
          "title": {
           "x": 0.05
          },
          "xaxis": {
           "automargin": true,
           "gridcolor": "white",
           "linecolor": "white",
           "ticks": "",
           "title": {
            "standoff": 15
           },
           "zerolinecolor": "white",
           "zerolinewidth": 2
          },
          "yaxis": {
           "automargin": true,
           "gridcolor": "white",
           "linecolor": "white",
           "ticks": "",
           "title": {
            "standoff": 15
           },
           "zerolinecolor": "white",
           "zerolinewidth": 2
          }
         }
        },
        "width": 1000
       }
      }
     },
     "metadata": {},
     "output_type": "display_data"
    }
   ],
   "source": [
    "point_array = points.sphere(n_samples=50, ambient_dim=3, radius=1, sample=\"random\")\n",
    "distance_matrix = cdist(point_array, point_array)\n",
    "filtered_complex = SimplexTree.create_from_array(distance_matrix, max_filtration=0.5)\n",
    "\n",
    "edge_array = np.array(\n",
    "  [[point_array[i[0][0]],point_array[i[0][1]]] for i in filtered_complex.get_filtration() if len(i[0])>1]\n",
    ")\n",
    "\n",
    "filtration_array = np.array(\n",
    "  [i[1] for i in filtered_complex.get_filtration() if len(i[0])>1]\n",
    ")\n",
    "\n",
    "fig = go.Figure(\n",
    "  data=[go.Scatter3d(\n",
    "    x=point_array[:,0],y=point_array[:,1],z=point_array[:,2],mode='markers', hoverinfo='none',marker=dict(size=5, color=\"#FFAD00\"))],\n",
    "  layout=go.Layout(\n",
    "    width=1000,\n",
    "    height=1000\n",
    "  )\n",
    "    )\n",
    "\n",
    "for edge in edge_array:\n",
    "  fig.add_trace(go.Scatter3d(x=edge[:,0],y=edge[:,1],z=edge[:,2],mode='lines',hoverinfo='none',line=dict(width=2.5,color=\"#0DE2FF\")))\n",
    "\n",
    "camera=dict(up=dict(x=0,y=0,z=1), center=dict(x=0,y=0,z=0), eye=dict(x=.15,y=.15,z=.15))\n",
    "\n",
    "fig.update_layout(scene=dict(xaxis=dict(showbackground=True,showticklabels=False,title=\"\",range=[-10,10],backgroundcolor=\"#0f1117\",gridcolor='white'), \n",
    "                             yaxis=dict(showbackground=True,showticklabels=False,title=\"\",range=[-10,10],backgroundcolor=\"#0f1117\",gridcolor='white'), \n",
    "                             zaxis=dict(showbackground=True,showticklabels=False,title=\"\",range=[-10,10],backgroundcolor=\"#0f1117\",gridcolor='white'),\n",
    "                             camera=camera), \n",
    "                  margin=dict(l=0, r=0, b=0, t=0),\n",
    "                  showlegend=False\n",
    "                  )\n",
    "fig.show()"
   ]
  },
  {
   "cell_type": "code",
   "execution_count": null,
   "id": "e9ef6a65",
   "metadata": {},
   "outputs": [],
   "source": []
  }
 ],
 "metadata": {
  "kernelspec": {
   "display_name": ".venv",
   "language": "python",
   "name": "python3"
  },
  "language_info": {
   "codemirror_mode": {
    "name": "ipython",
    "version": 3
   },
   "file_extension": ".py",
   "mimetype": "text/x-python",
   "name": "python",
   "nbconvert_exporter": "python",
   "pygments_lexer": "ipython3",
   "version": "3.12.10"
  }
 },
 "nbformat": 4,
 "nbformat_minor": 5
}
